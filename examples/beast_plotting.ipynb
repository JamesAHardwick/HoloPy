{
 "cells": [
  {
   "cell_type": "code",
   "execution_count": 2,
   "id": "cb660526",
   "metadata": {},
   "outputs": [
    {
     "ename": "ModuleNotFoundError",
     "evalue": "No module named 'beast_functions'",
     "output_type": "error",
     "traceback": [
      "\u001b[1;31m---------------------------------------------------------------------------\u001b[0m",
      "\u001b[1;31mModuleNotFoundError\u001b[0m                       Traceback (most recent call last)",
      "\u001b[1;32m<ipython-input-2-e081fc6f6a8c>\u001b[0m in \u001b[0;36m<module>\u001b[1;34m\u001b[0m\n\u001b[0;32m      1\u001b[0m \u001b[1;32mimport\u001b[0m \u001b[0mnumpy\u001b[0m \u001b[1;32mas\u001b[0m \u001b[0mnp\u001b[0m\u001b[1;33m,\u001b[0m \u001b[0mmatplotlib\u001b[0m\u001b[1;33m.\u001b[0m\u001b[0mpyplot\u001b[0m \u001b[1;32mas\u001b[0m \u001b[0mplt\u001b[0m\u001b[1;33m,\u001b[0m \u001b[0mcsv\u001b[0m\u001b[1;33m,\u001b[0m \u001b[0mos\u001b[0m\u001b[1;33m\u001b[0m\u001b[1;33m\u001b[0m\u001b[0m\n\u001b[0;32m      2\u001b[0m \u001b[1;32mfrom\u001b[0m \u001b[0mmpl_toolkits\u001b[0m\u001b[1;33m.\u001b[0m\u001b[0maxes_grid1\u001b[0m\u001b[1;33m.\u001b[0m\u001b[0maxes_divider\u001b[0m \u001b[1;32mimport\u001b[0m \u001b[0mmake_axes_locatable\u001b[0m\u001b[1;33m\u001b[0m\u001b[1;33m\u001b[0m\u001b[0m\n\u001b[1;32m----> 3\u001b[1;33m \u001b[1;32mfrom\u001b[0m \u001b[0mbeast_functions\u001b[0m \u001b[1;32mimport\u001b[0m \u001b[1;33m*\u001b[0m\u001b[1;33m\u001b[0m\u001b[1;33m\u001b[0m\u001b[0m\n\u001b[0m",
      "\u001b[1;31mModuleNotFoundError\u001b[0m: No module named 'beast_functions'"
     ]
    }
   ],
   "source": [
    "import numpy as np, matplotlib.pyplot as plt, csv, os\n",
    "from mpl_toolkits.axes_grid1.axes_divider import make_axes_locatable\n",
    "from holopy.utils.beast_functions import *"
   ]
  },
  {
   "cell_type": "code",
   "execution_count": null,
   "id": "a242858a",
   "metadata": {},
   "outputs": [],
   "source": [
    "microphone_correction_dB = 4.2\n",
    "step = 2\n",
    "plot_shape = (36, 61)\n",
    "\n",
    "folder_path = r\"C:/Users/James/OneDrive - University College London/Activation of Metasurface/Ben Motors/experiments/measurements_20_01_23\"\n",
    "filename = \"f=12lam 2mm Scan DATE_20 1 2023; TIME_13 14\"\n",
    "\n",
    "measured_reflected_pressure = interpret_beast_data(folder_path, filename, step, plot_shape, microphone_correction_dB)\n",
    "\n",
    "image_save_flag = False\n",
    "image_save_folder = folder_path+\"/png\"\n",
    "npy_flag = False"
   ]
  },
  {
   "cell_type": "code",
   "execution_count": null,
   "id": "a0377b31",
   "metadata": {},
   "outputs": [],
   "source": [
    "if npy_flag:\n",
    "    np.save(folder_path+\"/npy/\"+filename+\"_sub.npy\", pressure)\n",
    "\n",
    "## ----> plot Amplitude and phase measurments <----\n",
    "fig, ax = plt.subplots(nrows=1, ncols=1, figsize=(7, 7))\n",
    "\n",
    "# pressure (Pa)\n",
    "im1 = ax.imshow(abs(measured_reflected_pressure), plt.get_cmap(\"jet\"), extent=[0, 9, 0, 16], vmin=0, vmax=260)\n",
    "divider = make_axes_locatable(ax)\n",
    "cax = divider.append_axes(\"right\", size='5%', pad=.1)\n",
    "plt.colorbar(im1, cax=cax)\n",
    "if image_save_flag:\n",
    "    plt.savefig(image_save_folder+\"/\"+filename+\".png\", bbox_inches='tight', transparent=True, dpi=300)\n",
    "    print(\"saved sucessfully in '\"+image_save_folder+\"' as '\"+filename+\".png\"+\"'!\")\n",
    "plt.show()\n",
    "\n",
    "## ----> plot Amplitude and phase measurments <----\n",
    "fig, ax = plt.subplots(nrows=1, ncols=1, figsize=(7, 7))\n",
    "\n",
    "# pressure (Pa)\n",
    "im1 = ax.imshow(np.angle(measured_reflected_pressure))\n",
    "divider = make_axes_locatable(ax)\n",
    "cax = divider.append_axes(\"right\", size='5%', pad=.1)\n",
    "plt.colorbar(im1, cax=cax)\n",
    "if image_save_flag:\n",
    "    plt.savefig(image_save_folder+\"/\"+filename+\".png\", bbox_inches='tight', transparent=True, dpi=300)\n",
    "    print(\"saved sucessfully in '\"+image_save_folder+\"' as '\"+filename+\".png\"+\"'!\")\n",
    "plt.show()"
   ]
  }
 ],
 "metadata": {
  "kernelspec": {
   "display_name": "Python 3",
   "language": "python",
   "name": "python3"
  },
  "language_info": {
   "codemirror_mode": {
    "name": "ipython",
    "version": 3
   },
   "file_extension": ".py",
   "mimetype": "text/x-python",
   "name": "python",
   "nbconvert_exporter": "python",
   "pygments_lexer": "ipython3",
   "version": "3.9.1"
  }
 },
 "nbformat": 4,
 "nbformat_minor": 5
}
