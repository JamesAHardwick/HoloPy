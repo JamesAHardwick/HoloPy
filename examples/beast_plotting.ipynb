{
 "cells": [
  {
   "cell_type": "code",
   "execution_count": 1,
   "id": "cb660526",
   "metadata": {},
   "outputs": [],
   "source": [
    "import numpy as np, matplotlib.pyplot as plt, csv, os\n",
    "from mpl_toolkits.axes_grid1.axes_divider import make_axes_locatable\n",
    "from holopy.utils.beast_functions import *"
   ]
  },
  {
   "cell_type": "code",
   "execution_count": null,
   "id": "a242858a",
   "metadata": {},
   "outputs": [],
   "source": [
    "microphone_correction_dB = 4.2\n",
    "step = 2\n",
    "plot_shape = (36, 61)\n",
    "\n",
    "folder_path = r\"C:/Users/James/OneDrive - University College London/Activation of Metasurface/Ben Motors/experiments/measurements_20_01_23\"\n",
    "filename = \"f=12lam 2mm Scan DATE_20 1 2023; TIME_13 14\"\n",
    "\n",
    "measured_reflected_pressure = interpret_beast_data(folder_path, filename, step, plot_shape, microphone_correction_dB)\n",
    "\n",
    "image_save_flag = False\n",
    "image_save_folder = folder_path+\"/png\"\n",
    "npy_flag = False"
   ]
  },
  {
   "cell_type": "code",
   "execution_count": null,
   "id": "a0377b31",
   "metadata": {},
   "outputs": [],
   "source": [
    "if npy_flag:\n",
    "    np.save(folder_path+\"/npy/\"+filename+\"_sub.npy\", pressure)\n",
    "\n",
    "## ----> plot Amplitude and phase measurments <----\n",
    "fig, ax = plt.subplots(nrows=1, ncols=1, figsize=(7, 7))\n",
    "\n",
    "# pressure (Pa)\n",
    "im1 = ax.imshow(abs(measured_reflected_pressure), plt.get_cmap(\"jet\"), extent=[0, 9, 0, 16], vmin=0, vmax=260)\n",
    "divider = make_axes_locatable(ax)\n",
    "cax = divider.append_axes(\"right\", size='5%', pad=.1)\n",
    "plt.colorbar(im1, cax=cax)\n",
    "if image_save_flag:\n",
    "    plt.savefig(image_save_folder+\"/\"+filename+\".png\", bbox_inches='tight', transparent=True, dpi=300)\n",
    "    print(\"saved sucessfully in '\"+image_save_folder+\"' as '\"+filename+\".png\"+\"'!\")\n",
    "plt.show()\n",
    "\n",
    "## ----> plot Amplitude and phase measurments <----\n",
    "fig, ax = plt.subplots(nrows=1, ncols=1, figsize=(7, 7))\n",
    "\n",
    "# pressure (Pa)\n",
    "im1 = ax.imshow(np.angle(measured_reflected_pressure))\n",
    "divider = make_axes_locatable(ax)\n",
    "cax = divider.append_axes(\"right\", size='5%', pad=.1)\n",
    "plt.colorbar(im1, cax=cax)\n",
    "if image_save_flag:\n",
    "    plt.savefig(image_save_folder+\"/\"+filename+\".png\", bbox_inches='tight', transparent=True, dpi=300)\n",
    "    print(\"saved sucessfully in '\"+image_save_folder+\"' as '\"+filename+\".png\"+\"'!\")\n",
    "plt.show()"
   ]
  }
 ],
 "metadata": {
  "kernelspec": {
   "display_name": "Python 3",
   "language": "python",
   "name": "python3"
  },
  "language_info": {
   "codemirror_mode": {
    "name": "ipython",
    "version": 3
   },
   "file_extension": ".py",
   "mimetype": "text/x-python",
   "name": "python",
   "nbconvert_exporter": "python",
   "pygments_lexer": "ipython3",
   "version": "3.10.9"
  }
 },
 "nbformat": 4,
 "nbformat_minor": 5
}
