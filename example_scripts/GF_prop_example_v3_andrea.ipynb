{
 "cells": [
  {
   "cell_type": "code",
   "execution_count": 1,
   "id": "d234c4ef",
   "metadata": {
    "id": "d234c4ef"
   },
   "outputs": [],
   "source": [
    "import sys, os, time, numpy as np, matplotlib.pyplot as plt\n",
    "# from matplotlib.colors import ListedColormap, LinearSegmentedColormap\n",
    "# from mpl_toolkits.axes_grid1.axes_divider import make_axes_locatable"
   ]
  },
  {
   "cell_type": "code",
   "execution_count": 2,
   "id": "5c7a3fa0",
   "metadata": {
    "id": "5c7a3fa0"
   },
   "outputs": [],
   "source": [
    "def focus_phasemap_builder(points, focal_point_coords, k, focal_point_phase = 0):\n",
    "\n",
    "    \"\"\"\n",
    "    Builds a phasemap for an AMM or PAT creating a focus at some point in 3D space.\n",
    "\n",
    "    args:\n",
    "        points: matrix describing the positions of elements on the AMM or PAT surface.\n",
    "        focal_point_coords: (x, y, z) coords of the focus.\n",
    "        k: wavenumber\n",
    "        \n",
    "    returns:\n",
    "        norm_phase_array: matrix of phase delays from -pi to pi, with the same size as AMM_points, describing the\n",
    "        phase delays to build a focus at focal_point_coords.\n",
    "\n",
    "    \"\"\"\n",
    "\n",
    "    travel_distance_array = [] # matrix of distances from centre of each elem to focus\n",
    "    \n",
    "    for elem_coord in points:\n",
    "        travel_distance_array.append(np.sqrt((elem_coord[0] + focal_point_coords[0])**2 + \\\n",
    "                                             (elem_coord[1] + focal_point_coords[1])**2 + \\\n",
    "                                             (elem_coord[2] + focal_point_coords[2])**2))\n",
    "\n",
    "    # total change in phase of waves as they travel this distance.\n",
    "    total_phase_array = focal_point_phase - np.array(travel_distance_array) * k \n",
    "\n",
    "    # normalise between 0 and 2π [rads].\n",
    "    norm_phase_array = np.remainder(total_phase_array, 2*np.pi) - np.pi\n",
    "    \n",
    "    return norm_phase_array\n",
    "\n",
    "\n",
    "def points_vector_builder(centrepoint, extents, pixel_spacing):\n",
    "    \n",
    "    \"\"\"\n",
    "    \n",
    "    We can define an evalution plane using 3 inputs:\n",
    "\n",
    "    args:\n",
    "        centrepoint: (x, y, z) tuple describing the central point of the evaulation plane (meters).\n",
    "        extents: list of tuples in the form [(+x, -x), (+y, -y), (+z, -z)] describing the distances which the plane\n",
    "        extends in each +ve and -ve direction from the centrepoint. In order to create a valid 2D plane, one of\n",
    "        (+x, -x), (+y, -y), or (+z, -z) must be (0, 0).\n",
    "        pixel_spacing: distance between pixels on the evaluation plane (meters).\n",
    "    \n",
    "    returns:\n",
    "        points_vector_list: list of x, y and z coordinate arrays.\n",
    "    \n",
    "    \"\"\"\n",
    "\n",
    "    # side vectors for evaluation point matrix\n",
    "    x = np.arange(centrepoint[0] - (extents[0][0]) + (pixel_spacing/2),\n",
    "                  centrepoint[0] + (extents[0][1]),\n",
    "                  pixel_spacing)\n",
    "    \n",
    "    y = np.arange(centrepoint[1] - (extents[1][0]) + (pixel_spacing/2),\n",
    "                  centrepoint[1] + (extents[1][1]),\n",
    "                  pixel_spacing)\n",
    "    \n",
    "    z = np.arange(centrepoint[2] - (extents[2][0]) + (pixel_spacing/2),\n",
    "                  centrepoint[2] + (extents[2][1]),\n",
    "                  pixel_spacing)\n",
    "    \n",
    "    # if yz plane\n",
    "    if extents[0] == (0, 0): \n",
    "        yy, zz = np.meshgrid(y, z)\n",
    "        xx = centrepoint[0]*np.ones(len(y)*len(z))\n",
    "    \n",
    "    # if xz plane\n",
    "    elif extents[1] == (0, 0): \n",
    "        xx, zz = np.meshgrid(x, z)\n",
    "        yy = centrepoint[1]*np.ones(len(x)*len(z))\n",
    "        \n",
    "    # if xy plane    \n",
    "    elif extents[2] == (0, 0):\n",
    "        xx, yy = np.meshgrid(x, y)\n",
    "        zz = centrepoint[2]*np.ones(len(x)*len(y))\n",
    "    \n",
    "    # return a list of x, y and z vectors\n",
    "    \n",
    "    return np.concatenate((xx.reshape(1, -1), yy.reshape(1, -1), zz.reshape(1, -1))).T\n",
    "\n",
    "\n",
    "def GF_propagator_function_builder(reflector_points, eval_points, normals, areas, k):\n",
    "    \n",
    "    \"\"\"\n",
    "    \n",
    "    http://www.personal.reading.ac.uk/~sms03snc/fe_bem_notes_sncw.pdf\n",
    "    \n",
    "    builds a scattering matrix for the sound propagation of a set elements/sources that cover\n",
    "    a finite area in which they are assumed to have a constant pressure.\n",
    "\n",
    "    args:\n",
    "        reflector_points: matrix of x,y,z coords for the reflecting elements.\n",
    "        eval_points: matrix of evaluation x,y,z coords at the propagation plane.\n",
    "        normals: for a flat metasurface you get n*m times the vector [0, 0, 1].\n",
    "        area: vector of the areas covered by each element (1, n*m).\n",
    "        k: wavenumber.\n",
    "        \n",
    "\n",
    "    returns:\n",
    "        H: Gives distance matrix of all distances between reflector and evaluation points (n*m, p*q).\n",
    "        \n",
    "    \"\"\"\n",
    "    # assign variables for x, y and z coord vectors for reflectors, evaluation points and normals\n",
    "    rp_x, rp_y, rp_z = reflector_points.T\n",
    "    ep_x, ep_y, ep_z = eval_points.T\n",
    "    nm_x, nm_y, nm_z = normals\n",
    "    \n",
    "    # compute distances between eval_points and reflecting elements\n",
    "    r = np.sqrt((rp_x.reshape(-1, 1) - ep_x.reshape(1, -1))**2 + \\\n",
    "                (rp_y.reshape(-1, 1) - ep_y.reshape(1, -1))**2 + \\\n",
    "                (rp_z.reshape(-1, 1) - ep_z.reshape(1, -1))**2)\n",
    "    \n",
    "    # partial of greens w.r.t normals\n",
    "    g = -(1/(4*np.pi)) * np.exp(1j*k*r) * (1j*k*r-1)/(r**3)\n",
    "    \n",
    "    # find infinities and set them to zero.\n",
    "    g[g == np.inf] = 0 \n",
    "    \n",
    "    # equation 2.21 in the pdf\n",
    "    g = g * ((ep_x.reshape(1, -1) - rp_x.reshape(-1, 1)) * nm_x.T + \\\n",
    "             (ep_y.reshape(1, -1) - rp_y.reshape(-1, 1)) * nm_y.T + \\\n",
    "             (ep_z.reshape(1, -1) - rp_z.reshape(-1, 1)) * nm_z.T)\n",
    "    \n",
    "    # include reflector areas to build propagator function H\n",
    "    H = g * areas.T\n",
    "    \n",
    "    return H\n",
    "\n",
    "\n",
    "def GF_prop(AMM_surface_pressure, H, prop_direction):\n",
    "    \n",
    "    \"\"\"\n",
    "    \n",
    "    find the product of the propagator, H, and AMM surface pressure to find pressure at evaluation plane.\n",
    "    \n",
    "    args:\n",
    "        AMM_surface_pressure: complex pressure matrix on AMM surface.\n",
    "        H: the propagator function defined using \"GF_propagator_function_builder\" \n",
    "        prop_direction: direction of propagation (\"forward\" or \"backward\").\n",
    "        \n",
    "    returns:\n",
    "        complex pressure matrix at the evaluation plane.\n",
    "    \n",
    "    \"\"\"\n",
    "    \n",
    "    # forward propagate from AMM plane to evaluation plane\n",
    "    if prop_direction == \"forward\":\n",
    "        return 2 * np.dot(AMM_surface_pressure, H) \n",
    "    \n",
    "    # backward propagate from evaluation plane to AMM\n",
    "    elif prop_direction == \"backward\":\n",
    "        return 2 * np.dot(AMM_surface_pressure, np.conj(H)) \n",
    "    \n",
    "    else:\n",
    "        print(prop_direction, \"is not a valid propagation direction, please specifiy either 'forward' or 'backward'.\")"
   ]
  },
  {
   "cell_type": "code",
   "execution_count": 3,
   "id": "acc173f0",
   "metadata": {
    "id": "acc173f0"
   },
   "outputs": [],
   "source": [
    "# ---> physics params <---\n",
    "c0 = 343.  # [m/s]\n",
    "v = 40000  # [Hz]\n",
    "lam = c0 / v  # [m]\n",
    "k = 2 * np.pi / lam  # [rads/m]\n",
    "resolution = 1"
   ]
  },
  {
   "cell_type": "code",
   "execution_count": 11,
   "id": "400a9b1f",
   "metadata": {
    "id": "400a9b1f"
   },
   "outputs": [],
   "source": [
    "# ----> AMM plane <----\n",
    "m_AMM, n_AMM = 64, 64\n",
    "dx_AMM = lam/2 # cell spacing [m]\n",
    "AMM_centrepoint = (0, 0, 0)\n",
    "AMM_sidelengths = [((m_AMM/2)*dx_AMM, (m_AMM/2)*dx_AMM),\n",
    "                   ((n_AMM/2)*dx_AMM, (n_AMM/2)*dx_AMM),\n",
    "                   (0, 0)]\n",
    "AMM_points = points_vector_builder(AMM_centrepoint, AMM_sidelengths, dx_AMM)\n",
    "\n",
    "# ----> normals & areas <----\n",
    "AMM_normals = [np.zeros((1, n_AMM*m_AMM)), np.zeros((1, n_AMM*m_AMM)), np.ones((1, n_AMM*m_AMM))]\n",
    "AMM_areas = (dx_AMM**2)*np.ones((1, n_AMM*m_AMM))"
   ]
  },
  {
   "cell_type": "code",
   "execution_count": 13,
   "id": "DICut28ZXA-O",
   "metadata": {
    "colab": {
     "base_uri": "https://localhost:8080/",
     "height": 300
    },
    "id": "DICut28ZXA-O",
    "outputId": "99375b04-cba2-4516-8564-8b5b949c5c8f"
   },
   "outputs": [
    {
     "data": {
      "image/png": "[encoded data removed]",
      "text/plain": [
       "<Figure size 432x288 with 2 Axes>"
      ]
     },
     "metadata": {
      "needs_background": "light"
     },
     "output_type": "display_data"
    },
    {
     "data": {
      "image/png": "[encoded data removed]",
      "text/plain": [
       "<Figure size 432x288 with 2 Axes>"
      ]
     },
     "metadata": {
      "needs_background": "light"
     },
     "output_type": "display_data"
    },
    {
     "name": "stdout",
     "output_type": "stream",
     "text": [
      "Target amplitude: [59.65459541]\n",
      "Target phase: [3.14159265]\n"
     ]
    }
   ],
   "source": [
    "A_input, phi_input = 100, np.pi\n",
    "focus_pressure = A_input*np.exp(1j*phi_input)\n",
    "\n",
    "eval_points = np.array([0, 0, 10*lam])\n",
    "H = GF_propagator_function_builder(AMM_points, eval_points, AMM_normals, AMM_areas, k)\n",
    "back_prop = 2* np.dot(focus_pressure, np.conj(H))\n",
    "back_prop = back_prop.reshape(m_AMM, n_AMM)\n",
    "\n",
    "plt.imshow(np.angle(back_prop))\n",
    "plt.colorbar()\n",
    "plt.show()\n",
    "\n",
    "plt.imshow(abs(back_prop), cmap=plt.get_cmap(\"jet\"))\n",
    "plt.colorbar()\n",
    "plt.show()\n",
    "\n",
    "forward_prop = GF_prop(back_prop.reshape(n_AMM*n_AMM), H, \"forward\")\n",
    "\n",
    "target_amplitude = abs(forward_prop)\n",
    "target_phase = np.angle(forward_prop)\n",
    "\n",
    "print('Target amplitude:', target_amplitude)\n",
    "print('Target phase:', target_phase)"
   ]
  },
  {
   "cell_type": "code",
   "execution_count": null,
   "id": "965f9fbe",
   "metadata": {},
   "outputs": [],
   "source": []
  }
 ],
 "metadata": {
  "colab": {
   "provenance": []
  },
  "kernelspec": {
   "display_name": "Python 3 (ipykernel)",
   "language": "python",
   "name": "python3"
  },
  "language_info": {
   "codemirror_mode": {
    "name": "ipython",
    "version": 3
   },
   "file_extension": ".py",
   "mimetype": "text/x-python",
   "name": "python",
   "nbconvert_exporter": "python",
   "pygments_lexer": "ipython3",
   "version": "3.9.7"
  }
 },
 "nbformat": 4,
 "nbformat_minor": 5
}
